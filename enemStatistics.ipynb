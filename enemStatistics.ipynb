{
 "cells": [
  {
   "cell_type": "markdown",
   "metadata": {},
   "source": [
    "## Importação das bibliotecas\n"
   ]
  },
  {
   "cell_type": "code",
   "execution_count": 49,
   "metadata": {},
   "outputs": [],
   "source": [
    "import pandas as pd\n",
    "import matplotlib.pyplot as plt\n",
    "import seaborn as sns "
   ]
  },
  {
   "cell_type": "markdown",
   "metadata": {},
   "source": [
    "## Importação dos dados para o dataframe"
   ]
  },
  {
   "cell_type": "code",
   "execution_count": 5,
   "metadata": {},
   "outputs": [],
   "source": [
    "df = pd.read_csv('MICRODADOS_ENEM_2023.csv', sep=';', encoding='ISO-8859-1')"
   ]
  },
  {
   "cell_type": "markdown",
   "metadata": {},
   "source": [
    "## Algumas informações "
   ]
  },
  {
   "cell_type": "code",
   "execution_count": 11,
   "metadata": {},
   "outputs": [
    {
     "name": "stdout",
     "output_type": "stream",
     "text": [
      "<class 'pandas.core.frame.DataFrame'>\n",
      "Int64Index: 708614 entries, 3 to 3933948\n",
      "Data columns (total 76 columns):\n",
      " #   Column                  Non-Null Count   Dtype  \n",
      "---  ------                  --------------   -----  \n",
      " 0   NU_INSCRICAO            708614 non-null  int64  \n",
      " 1   NU_ANO                  708614 non-null  int64  \n",
      " 2   TP_FAIXA_ETARIA         708614 non-null  int64  \n",
      " 3   TP_SEXO                 708614 non-null  object \n",
      " 4   TP_ESTADO_CIVIL         708614 non-null  int64  \n",
      " 5   TP_COR_RACA             708614 non-null  int64  \n",
      " 6   TP_NACIONALIDADE        708614 non-null  int64  \n",
      " 7   TP_ST_CONCLUSAO         708614 non-null  int64  \n",
      " 8   TP_ANO_CONCLUIU         708614 non-null  int64  \n",
      " 9   TP_ESCOLA               708614 non-null  int64  \n",
      " 10  TP_ENSINO               708614 non-null  float64\n",
      " 11  IN_TREINEIRO            708614 non-null  int64  \n",
      " 12  CO_MUNICIPIO_ESC        708614 non-null  float64\n",
      " 13  NO_MUNICIPIO_ESC        708614 non-null  object \n",
      " 14  CO_UF_ESC               708614 non-null  float64\n",
      " 15  SG_UF_ESC               708614 non-null  object \n",
      " 16  TP_DEPENDENCIA_ADM_ESC  708614 non-null  float64\n",
      " 17  TP_LOCALIZACAO_ESC      708614 non-null  float64\n",
      " 18  TP_SIT_FUNC_ESC         708614 non-null  float64\n",
      " 19  CO_MUNICIPIO_PROVA      708614 non-null  int64  \n",
      " 20  NO_MUNICIPIO_PROVA      708614 non-null  object \n",
      " 21  CO_UF_PROVA             708614 non-null  int64  \n",
      " 22  SG_UF_PROVA             708614 non-null  object \n",
      " 23  TP_PRESENCA_CN          708614 non-null  int64  \n",
      " 24  TP_PRESENCA_CH          708614 non-null  int64  \n",
      " 25  TP_PRESENCA_LC          708614 non-null  int64  \n",
      " 26  TP_PRESENCA_MT          708614 non-null  int64  \n",
      " 27  CO_PROVA_CN             708614 non-null  float64\n",
      " 28  CO_PROVA_CH             708614 non-null  float64\n",
      " 29  CO_PROVA_LC             708614 non-null  float64\n",
      " 30  CO_PROVA_MT             708614 non-null  float64\n",
      " 31  NU_NOTA_CN              708614 non-null  float64\n",
      " 32  NU_NOTA_CH              708614 non-null  float64\n",
      " 33  NU_NOTA_LC              708614 non-null  float64\n",
      " 34  NU_NOTA_MT              708614 non-null  float64\n",
      " 35  TX_RESPOSTAS_CN         708614 non-null  object \n",
      " 36  TX_RESPOSTAS_CH         708614 non-null  object \n",
      " 37  TX_RESPOSTAS_LC         708614 non-null  object \n",
      " 38  TX_RESPOSTAS_MT         708614 non-null  object \n",
      " 39  TP_LINGUA               708614 non-null  int64  \n",
      " 40  TX_GABARITO_CN          708614 non-null  object \n",
      " 41  TX_GABARITO_CH          708614 non-null  object \n",
      " 42  TX_GABARITO_LC          708614 non-null  object \n",
      " 43  TX_GABARITO_MT          708614 non-null  object \n",
      " 44  TP_STATUS_REDACAO       708614 non-null  float64\n",
      " 45  NU_NOTA_COMP1           708614 non-null  float64\n",
      " 46  NU_NOTA_COMP2           708614 non-null  float64\n",
      " 47  NU_NOTA_COMP3           708614 non-null  float64\n",
      " 48  NU_NOTA_COMP4           708614 non-null  float64\n",
      " 49  NU_NOTA_COMP5           708614 non-null  float64\n",
      " 50  NU_NOTA_REDACAO         708614 non-null  float64\n",
      " 51  Q001                    708614 non-null  object \n",
      " 52  Q002                    708614 non-null  object \n",
      " 53  Q003                    708614 non-null  object \n",
      " 54  Q004                    708614 non-null  object \n",
      " 55  Q005                    708614 non-null  int64  \n",
      " 56  Q006                    708614 non-null  object \n",
      " 57  Q007                    708614 non-null  object \n",
      " 58  Q008                    708614 non-null  object \n",
      " 59  Q009                    708614 non-null  object \n",
      " 60  Q010                    708614 non-null  object \n",
      " 61  Q011                    708614 non-null  object \n",
      " 62  Q012                    708614 non-null  object \n",
      " 63  Q013                    708614 non-null  object \n",
      " 64  Q014                    708614 non-null  object \n",
      " 65  Q015                    708614 non-null  object \n",
      " 66  Q016                    708614 non-null  object \n",
      " 67  Q017                    708614 non-null  object \n",
      " 68  Q018                    708614 non-null  object \n",
      " 69  Q019                    708614 non-null  object \n",
      " 70  Q020                    708614 non-null  object \n",
      " 71  Q021                    708614 non-null  object \n",
      " 72  Q022                    708614 non-null  object \n",
      " 73  Q023                    708614 non-null  object \n",
      " 74  Q024                    708614 non-null  object \n",
      " 75  Q025                    708614 non-null  object \n",
      "dtypes: float64(21), int64(18), object(37)\n",
      "memory usage: 416.3+ MB\n"
     ]
    }
   ],
   "source": [
    "df = df.dropna()\n",
    "df.info()\n"
   ]
  },
  {
   "cell_type": "code",
   "execution_count": 12,
   "metadata": {},
   "outputs": [
    {
     "data": {
      "text/html": [
       "<div>\n",
       "<style scoped>\n",
       "    .dataframe tbody tr th:only-of-type {\n",
       "        vertical-align: middle;\n",
       "    }\n",
       "\n",
       "    .dataframe tbody tr th {\n",
       "        vertical-align: top;\n",
       "    }\n",
       "\n",
       "    .dataframe thead th {\n",
       "        text-align: right;\n",
       "    }\n",
       "</style>\n",
       "<table border=\"1\" class=\"dataframe\">\n",
       "  <thead>\n",
       "    <tr style=\"text-align: right;\">\n",
       "      <th></th>\n",
       "      <th>NU_INSCRICAO</th>\n",
       "      <th>NU_ANO</th>\n",
       "      <th>TP_FAIXA_ETARIA</th>\n",
       "      <th>TP_SEXO</th>\n",
       "      <th>TP_ESTADO_CIVIL</th>\n",
       "      <th>TP_COR_RACA</th>\n",
       "      <th>TP_NACIONALIDADE</th>\n",
       "      <th>TP_ST_CONCLUSAO</th>\n",
       "      <th>TP_ANO_CONCLUIU</th>\n",
       "      <th>TP_ESCOLA</th>\n",
       "      <th>...</th>\n",
       "      <th>Q016</th>\n",
       "      <th>Q017</th>\n",
       "      <th>Q018</th>\n",
       "      <th>Q019</th>\n",
       "      <th>Q020</th>\n",
       "      <th>Q021</th>\n",
       "      <th>Q022</th>\n",
       "      <th>Q023</th>\n",
       "      <th>Q024</th>\n",
       "      <th>Q025</th>\n",
       "    </tr>\n",
       "  </thead>\n",
       "  <tbody>\n",
       "    <tr>\n",
       "      <th>3</th>\n",
       "      <td>210060214087</td>\n",
       "      <td>2023</td>\n",
       "      <td>2</td>\n",
       "      <td>F</td>\n",
       "      <td>1</td>\n",
       "      <td>3</td>\n",
       "      <td>1</td>\n",
       "      <td>2</td>\n",
       "      <td>0</td>\n",
       "      <td>2</td>\n",
       "      <td>...</td>\n",
       "      <td>A</td>\n",
       "      <td>A</td>\n",
       "      <td>A</td>\n",
       "      <td>B</td>\n",
       "      <td>A</td>\n",
       "      <td>A</td>\n",
       "      <td>D</td>\n",
       "      <td>A</td>\n",
       "      <td>A</td>\n",
       "      <td>B</td>\n",
       "    </tr>\n",
       "    <tr>\n",
       "      <th>4</th>\n",
       "      <td>210059980948</td>\n",
       "      <td>2023</td>\n",
       "      <td>3</td>\n",
       "      <td>F</td>\n",
       "      <td>1</td>\n",
       "      <td>3</td>\n",
       "      <td>1</td>\n",
       "      <td>2</td>\n",
       "      <td>0</td>\n",
       "      <td>2</td>\n",
       "      <td>...</td>\n",
       "      <td>A</td>\n",
       "      <td>A</td>\n",
       "      <td>A</td>\n",
       "      <td>B</td>\n",
       "      <td>A</td>\n",
       "      <td>A</td>\n",
       "      <td>B</td>\n",
       "      <td>A</td>\n",
       "      <td>A</td>\n",
       "      <td>A</td>\n",
       "    </tr>\n",
       "    <tr>\n",
       "      <th>11</th>\n",
       "      <td>210060801595</td>\n",
       "      <td>2023</td>\n",
       "      <td>3</td>\n",
       "      <td>M</td>\n",
       "      <td>1</td>\n",
       "      <td>3</td>\n",
       "      <td>4</td>\n",
       "      <td>2</td>\n",
       "      <td>0</td>\n",
       "      <td>2</td>\n",
       "      <td>...</td>\n",
       "      <td>A</td>\n",
       "      <td>A</td>\n",
       "      <td>A</td>\n",
       "      <td>B</td>\n",
       "      <td>A</td>\n",
       "      <td>A</td>\n",
       "      <td>B</td>\n",
       "      <td>A</td>\n",
       "      <td>B</td>\n",
       "      <td>B</td>\n",
       "    </tr>\n",
       "    <tr>\n",
       "      <th>16</th>\n",
       "      <td>210058061534</td>\n",
       "      <td>2023</td>\n",
       "      <td>4</td>\n",
       "      <td>F</td>\n",
       "      <td>1</td>\n",
       "      <td>1</td>\n",
       "      <td>1</td>\n",
       "      <td>2</td>\n",
       "      <td>0</td>\n",
       "      <td>2</td>\n",
       "      <td>...</td>\n",
       "      <td>A</td>\n",
       "      <td>A</td>\n",
       "      <td>A</td>\n",
       "      <td>B</td>\n",
       "      <td>A</td>\n",
       "      <td>A</td>\n",
       "      <td>D</td>\n",
       "      <td>B</td>\n",
       "      <td>A</td>\n",
       "      <td>B</td>\n",
       "    </tr>\n",
       "    <tr>\n",
       "      <th>41</th>\n",
       "      <td>210059855121</td>\n",
       "      <td>2023</td>\n",
       "      <td>3</td>\n",
       "      <td>M</td>\n",
       "      <td>1</td>\n",
       "      <td>1</td>\n",
       "      <td>1</td>\n",
       "      <td>2</td>\n",
       "      <td>0</td>\n",
       "      <td>2</td>\n",
       "      <td>...</td>\n",
       "      <td>A</td>\n",
       "      <td>A</td>\n",
       "      <td>A</td>\n",
       "      <td>B</td>\n",
       "      <td>A</td>\n",
       "      <td>A</td>\n",
       "      <td>B</td>\n",
       "      <td>A</td>\n",
       "      <td>A</td>\n",
       "      <td>B</td>\n",
       "    </tr>\n",
       "    <tr>\n",
       "      <th>46</th>\n",
       "      <td>210061103944</td>\n",
       "      <td>2023</td>\n",
       "      <td>2</td>\n",
       "      <td>F</td>\n",
       "      <td>1</td>\n",
       "      <td>1</td>\n",
       "      <td>1</td>\n",
       "      <td>2</td>\n",
       "      <td>0</td>\n",
       "      <td>2</td>\n",
       "      <td>...</td>\n",
       "      <td>B</td>\n",
       "      <td>A</td>\n",
       "      <td>B</td>\n",
       "      <td>C</td>\n",
       "      <td>B</td>\n",
       "      <td>B</td>\n",
       "      <td>E</td>\n",
       "      <td>B</td>\n",
       "      <td>C</td>\n",
       "      <td>B</td>\n",
       "    </tr>\n",
       "    <tr>\n",
       "      <th>48</th>\n",
       "      <td>210059388092</td>\n",
       "      <td>2023</td>\n",
       "      <td>3</td>\n",
       "      <td>F</td>\n",
       "      <td>1</td>\n",
       "      <td>3</td>\n",
       "      <td>1</td>\n",
       "      <td>2</td>\n",
       "      <td>0</td>\n",
       "      <td>2</td>\n",
       "      <td>...</td>\n",
       "      <td>A</td>\n",
       "      <td>A</td>\n",
       "      <td>A</td>\n",
       "      <td>B</td>\n",
       "      <td>A</td>\n",
       "      <td>A</td>\n",
       "      <td>B</td>\n",
       "      <td>A</td>\n",
       "      <td>A</td>\n",
       "      <td>B</td>\n",
       "    </tr>\n",
       "    <tr>\n",
       "      <th>64</th>\n",
       "      <td>210059527733</td>\n",
       "      <td>2023</td>\n",
       "      <td>3</td>\n",
       "      <td>M</td>\n",
       "      <td>1</td>\n",
       "      <td>2</td>\n",
       "      <td>1</td>\n",
       "      <td>2</td>\n",
       "      <td>0</td>\n",
       "      <td>2</td>\n",
       "      <td>...</td>\n",
       "      <td>B</td>\n",
       "      <td>A</td>\n",
       "      <td>A</td>\n",
       "      <td>D</td>\n",
       "      <td>A</td>\n",
       "      <td>A</td>\n",
       "      <td>D</td>\n",
       "      <td>A</td>\n",
       "      <td>B</td>\n",
       "      <td>B</td>\n",
       "    </tr>\n",
       "    <tr>\n",
       "      <th>66</th>\n",
       "      <td>210059959486</td>\n",
       "      <td>2023</td>\n",
       "      <td>3</td>\n",
       "      <td>F</td>\n",
       "      <td>1</td>\n",
       "      <td>1</td>\n",
       "      <td>1</td>\n",
       "      <td>2</td>\n",
       "      <td>0</td>\n",
       "      <td>2</td>\n",
       "      <td>...</td>\n",
       "      <td>B</td>\n",
       "      <td>A</td>\n",
       "      <td>A</td>\n",
       "      <td>B</td>\n",
       "      <td>A</td>\n",
       "      <td>A</td>\n",
       "      <td>C</td>\n",
       "      <td>A</td>\n",
       "      <td>B</td>\n",
       "      <td>B</td>\n",
       "    </tr>\n",
       "    <tr>\n",
       "      <th>77</th>\n",
       "      <td>210059982325</td>\n",
       "      <td>2023</td>\n",
       "      <td>2</td>\n",
       "      <td>F</td>\n",
       "      <td>0</td>\n",
       "      <td>2</td>\n",
       "      <td>2</td>\n",
       "      <td>2</td>\n",
       "      <td>0</td>\n",
       "      <td>2</td>\n",
       "      <td>...</td>\n",
       "      <td>B</td>\n",
       "      <td>A</td>\n",
       "      <td>A</td>\n",
       "      <td>B</td>\n",
       "      <td>A</td>\n",
       "      <td>A</td>\n",
       "      <td>A</td>\n",
       "      <td>A</td>\n",
       "      <td>A</td>\n",
       "      <td>B</td>\n",
       "    </tr>\n",
       "  </tbody>\n",
       "</table>\n",
       "<p>10 rows × 76 columns</p>\n",
       "</div>"
      ],
      "text/plain": [
       "    NU_INSCRICAO  NU_ANO  TP_FAIXA_ETARIA TP_SEXO  TP_ESTADO_CIVIL  \\\n",
       "3   210060214087    2023                2       F                1   \n",
       "4   210059980948    2023                3       F                1   \n",
       "11  210060801595    2023                3       M                1   \n",
       "16  210058061534    2023                4       F                1   \n",
       "41  210059855121    2023                3       M                1   \n",
       "46  210061103944    2023                2       F                1   \n",
       "48  210059388092    2023                3       F                1   \n",
       "64  210059527733    2023                3       M                1   \n",
       "66  210059959486    2023                3       F                1   \n",
       "77  210059982325    2023                2       F                0   \n",
       "\n",
       "    TP_COR_RACA  TP_NACIONALIDADE  TP_ST_CONCLUSAO  TP_ANO_CONCLUIU  \\\n",
       "3             3                 1                2                0   \n",
       "4             3                 1                2                0   \n",
       "11            3                 4                2                0   \n",
       "16            1                 1                2                0   \n",
       "41            1                 1                2                0   \n",
       "46            1                 1                2                0   \n",
       "48            3                 1                2                0   \n",
       "64            2                 1                2                0   \n",
       "66            1                 1                2                0   \n",
       "77            2                 2                2                0   \n",
       "\n",
       "    TP_ESCOLA  ...  Q016  Q017  Q018 Q019  Q020 Q021  Q022  Q023  Q024  Q025  \n",
       "3           2  ...     A     A     A    B     A    A     D     A     A     B  \n",
       "4           2  ...     A     A     A    B     A    A     B     A     A     A  \n",
       "11          2  ...     A     A     A    B     A    A     B     A     B     B  \n",
       "16          2  ...     A     A     A    B     A    A     D     B     A     B  \n",
       "41          2  ...     A     A     A    B     A    A     B     A     A     B  \n",
       "46          2  ...     B     A     B    C     B    B     E     B     C     B  \n",
       "48          2  ...     A     A     A    B     A    A     B     A     A     B  \n",
       "64          2  ...     B     A     A    D     A    A     D     A     B     B  \n",
       "66          2  ...     B     A     A    B     A    A     C     A     B     B  \n",
       "77          2  ...     B     A     A    B     A    A     A     A     A     B  \n",
       "\n",
       "[10 rows x 76 columns]"
      ]
     },
     "execution_count": 12,
     "metadata": {},
     "output_type": "execute_result"
    }
   ],
   "source": [
    "df.head(10)\n",
    "\n"
   ]
  },
  {
   "cell_type": "code",
   "execution_count": 8,
   "metadata": {},
   "outputs": [
    {
     "name": "stdout",
     "output_type": "stream",
     "text": [
      "Index(['NU_INSCRICAO', 'NU_ANO', 'TP_FAIXA_ETARIA', 'TP_SEXO',\n",
      "       'TP_ESTADO_CIVIL', 'TP_COR_RACA', 'TP_NACIONALIDADE', 'TP_ST_CONCLUSAO',\n",
      "       'TP_ANO_CONCLUIU', 'TP_ESCOLA', 'TP_ENSINO', 'IN_TREINEIRO',\n",
      "       'CO_MUNICIPIO_ESC', 'NO_MUNICIPIO_ESC', 'CO_UF_ESC', 'SG_UF_ESC',\n",
      "       'TP_DEPENDENCIA_ADM_ESC', 'TP_LOCALIZACAO_ESC', 'TP_SIT_FUNC_ESC',\n",
      "       'CO_MUNICIPIO_PROVA', 'NO_MUNICIPIO_PROVA', 'CO_UF_PROVA',\n",
      "       'SG_UF_PROVA', 'TP_PRESENCA_CN', 'TP_PRESENCA_CH', 'TP_PRESENCA_LC',\n",
      "       'TP_PRESENCA_MT', 'CO_PROVA_CN', 'CO_PROVA_CH', 'CO_PROVA_LC',\n",
      "       'CO_PROVA_MT', 'NU_NOTA_CN', 'NU_NOTA_CH', 'NU_NOTA_LC', 'NU_NOTA_MT',\n",
      "       'TX_RESPOSTAS_CN', 'TX_RESPOSTAS_CH', 'TX_RESPOSTAS_LC',\n",
      "       'TX_RESPOSTAS_MT', 'TP_LINGUA', 'TX_GABARITO_CN', 'TX_GABARITO_CH',\n",
      "       'TX_GABARITO_LC', 'TX_GABARITO_MT', 'TP_STATUS_REDACAO',\n",
      "       'NU_NOTA_COMP1', 'NU_NOTA_COMP2', 'NU_NOTA_COMP3', 'NU_NOTA_COMP4',\n",
      "       'NU_NOTA_COMP5', 'NU_NOTA_REDACAO', 'Q001', 'Q002', 'Q003', 'Q004',\n",
      "       'Q005', 'Q006', 'Q007', 'Q008', 'Q009', 'Q010', 'Q011', 'Q012', 'Q013',\n",
      "       'Q014', 'Q015', 'Q016', 'Q017', 'Q018', 'Q019', 'Q020', 'Q021', 'Q022',\n",
      "       'Q023', 'Q024', 'Q025'],\n",
      "      dtype='object')\n"
     ]
    }
   ],
   "source": [
    "print(df.columns)"
   ]
  },
  {
   "cell_type": "code",
   "execution_count": 13,
   "metadata": {},
   "outputs": [
    {
     "data": {
      "text/html": [
       "<div>\n",
       "<style scoped>\n",
       "    .dataframe tbody tr th:only-of-type {\n",
       "        vertical-align: middle;\n",
       "    }\n",
       "\n",
       "    .dataframe tbody tr th {\n",
       "        vertical-align: top;\n",
       "    }\n",
       "\n",
       "    .dataframe thead th {\n",
       "        text-align: right;\n",
       "    }\n",
       "</style>\n",
       "<table border=\"1\" class=\"dataframe\">\n",
       "  <thead>\n",
       "    <tr style=\"text-align: right;\">\n",
       "      <th></th>\n",
       "      <th>NU_INSCRICAO</th>\n",
       "      <th>NU_ANO</th>\n",
       "      <th>TP_FAIXA_ETARIA</th>\n",
       "      <th>TP_SEXO</th>\n",
       "      <th>TP_ESTADO_CIVIL</th>\n",
       "      <th>TP_COR_RACA</th>\n",
       "      <th>TP_NACIONALIDADE</th>\n",
       "      <th>TP_ST_CONCLUSAO</th>\n",
       "      <th>TP_ANO_CONCLUIU</th>\n",
       "      <th>TP_ESCOLA</th>\n",
       "      <th>...</th>\n",
       "      <th>Q016</th>\n",
       "      <th>Q017</th>\n",
       "      <th>Q018</th>\n",
       "      <th>Q019</th>\n",
       "      <th>Q020</th>\n",
       "      <th>Q021</th>\n",
       "      <th>Q022</th>\n",
       "      <th>Q023</th>\n",
       "      <th>Q024</th>\n",
       "      <th>Q025</th>\n",
       "    </tr>\n",
       "  </thead>\n",
       "  <tbody>\n",
       "    <tr>\n",
       "      <th>3</th>\n",
       "      <td>210060214087</td>\n",
       "      <td>2023</td>\n",
       "      <td>2</td>\n",
       "      <td>F</td>\n",
       "      <td>1</td>\n",
       "      <td>3</td>\n",
       "      <td>1</td>\n",
       "      <td>2</td>\n",
       "      <td>0</td>\n",
       "      <td>2</td>\n",
       "      <td>...</td>\n",
       "      <td>A</td>\n",
       "      <td>A</td>\n",
       "      <td>A</td>\n",
       "      <td>B</td>\n",
       "      <td>A</td>\n",
       "      <td>A</td>\n",
       "      <td>D</td>\n",
       "      <td>A</td>\n",
       "      <td>A</td>\n",
       "      <td>B</td>\n",
       "    </tr>\n",
       "    <tr>\n",
       "      <th>4</th>\n",
       "      <td>210059980948</td>\n",
       "      <td>2023</td>\n",
       "      <td>3</td>\n",
       "      <td>F</td>\n",
       "      <td>1</td>\n",
       "      <td>3</td>\n",
       "      <td>1</td>\n",
       "      <td>2</td>\n",
       "      <td>0</td>\n",
       "      <td>2</td>\n",
       "      <td>...</td>\n",
       "      <td>A</td>\n",
       "      <td>A</td>\n",
       "      <td>A</td>\n",
       "      <td>B</td>\n",
       "      <td>A</td>\n",
       "      <td>A</td>\n",
       "      <td>B</td>\n",
       "      <td>A</td>\n",
       "      <td>A</td>\n",
       "      <td>A</td>\n",
       "    </tr>\n",
       "    <tr>\n",
       "      <th>11</th>\n",
       "      <td>210060801595</td>\n",
       "      <td>2023</td>\n",
       "      <td>3</td>\n",
       "      <td>M</td>\n",
       "      <td>1</td>\n",
       "      <td>3</td>\n",
       "      <td>4</td>\n",
       "      <td>2</td>\n",
       "      <td>0</td>\n",
       "      <td>2</td>\n",
       "      <td>...</td>\n",
       "      <td>A</td>\n",
       "      <td>A</td>\n",
       "      <td>A</td>\n",
       "      <td>B</td>\n",
       "      <td>A</td>\n",
       "      <td>A</td>\n",
       "      <td>B</td>\n",
       "      <td>A</td>\n",
       "      <td>B</td>\n",
       "      <td>B</td>\n",
       "    </tr>\n",
       "    <tr>\n",
       "      <th>16</th>\n",
       "      <td>210058061534</td>\n",
       "      <td>2023</td>\n",
       "      <td>4</td>\n",
       "      <td>F</td>\n",
       "      <td>1</td>\n",
       "      <td>1</td>\n",
       "      <td>1</td>\n",
       "      <td>2</td>\n",
       "      <td>0</td>\n",
       "      <td>2</td>\n",
       "      <td>...</td>\n",
       "      <td>A</td>\n",
       "      <td>A</td>\n",
       "      <td>A</td>\n",
       "      <td>B</td>\n",
       "      <td>A</td>\n",
       "      <td>A</td>\n",
       "      <td>D</td>\n",
       "      <td>B</td>\n",
       "      <td>A</td>\n",
       "      <td>B</td>\n",
       "    </tr>\n",
       "    <tr>\n",
       "      <th>41</th>\n",
       "      <td>210059855121</td>\n",
       "      <td>2023</td>\n",
       "      <td>3</td>\n",
       "      <td>M</td>\n",
       "      <td>1</td>\n",
       "      <td>1</td>\n",
       "      <td>1</td>\n",
       "      <td>2</td>\n",
       "      <td>0</td>\n",
       "      <td>2</td>\n",
       "      <td>...</td>\n",
       "      <td>A</td>\n",
       "      <td>A</td>\n",
       "      <td>A</td>\n",
       "      <td>B</td>\n",
       "      <td>A</td>\n",
       "      <td>A</td>\n",
       "      <td>B</td>\n",
       "      <td>A</td>\n",
       "      <td>A</td>\n",
       "      <td>B</td>\n",
       "    </tr>\n",
       "    <tr>\n",
       "      <th>46</th>\n",
       "      <td>210061103944</td>\n",
       "      <td>2023</td>\n",
       "      <td>2</td>\n",
       "      <td>F</td>\n",
       "      <td>1</td>\n",
       "      <td>1</td>\n",
       "      <td>1</td>\n",
       "      <td>2</td>\n",
       "      <td>0</td>\n",
       "      <td>2</td>\n",
       "      <td>...</td>\n",
       "      <td>B</td>\n",
       "      <td>A</td>\n",
       "      <td>B</td>\n",
       "      <td>C</td>\n",
       "      <td>B</td>\n",
       "      <td>B</td>\n",
       "      <td>E</td>\n",
       "      <td>B</td>\n",
       "      <td>C</td>\n",
       "      <td>B</td>\n",
       "    </tr>\n",
       "    <tr>\n",
       "      <th>48</th>\n",
       "      <td>210059388092</td>\n",
       "      <td>2023</td>\n",
       "      <td>3</td>\n",
       "      <td>F</td>\n",
       "      <td>1</td>\n",
       "      <td>3</td>\n",
       "      <td>1</td>\n",
       "      <td>2</td>\n",
       "      <td>0</td>\n",
       "      <td>2</td>\n",
       "      <td>...</td>\n",
       "      <td>A</td>\n",
       "      <td>A</td>\n",
       "      <td>A</td>\n",
       "      <td>B</td>\n",
       "      <td>A</td>\n",
       "      <td>A</td>\n",
       "      <td>B</td>\n",
       "      <td>A</td>\n",
       "      <td>A</td>\n",
       "      <td>B</td>\n",
       "    </tr>\n",
       "    <tr>\n",
       "      <th>64</th>\n",
       "      <td>210059527733</td>\n",
       "      <td>2023</td>\n",
       "      <td>3</td>\n",
       "      <td>M</td>\n",
       "      <td>1</td>\n",
       "      <td>2</td>\n",
       "      <td>1</td>\n",
       "      <td>2</td>\n",
       "      <td>0</td>\n",
       "      <td>2</td>\n",
       "      <td>...</td>\n",
       "      <td>B</td>\n",
       "      <td>A</td>\n",
       "      <td>A</td>\n",
       "      <td>D</td>\n",
       "      <td>A</td>\n",
       "      <td>A</td>\n",
       "      <td>D</td>\n",
       "      <td>A</td>\n",
       "      <td>B</td>\n",
       "      <td>B</td>\n",
       "    </tr>\n",
       "    <tr>\n",
       "      <th>66</th>\n",
       "      <td>210059959486</td>\n",
       "      <td>2023</td>\n",
       "      <td>3</td>\n",
       "      <td>F</td>\n",
       "      <td>1</td>\n",
       "      <td>1</td>\n",
       "      <td>1</td>\n",
       "      <td>2</td>\n",
       "      <td>0</td>\n",
       "      <td>2</td>\n",
       "      <td>...</td>\n",
       "      <td>B</td>\n",
       "      <td>A</td>\n",
       "      <td>A</td>\n",
       "      <td>B</td>\n",
       "      <td>A</td>\n",
       "      <td>A</td>\n",
       "      <td>C</td>\n",
       "      <td>A</td>\n",
       "      <td>B</td>\n",
       "      <td>B</td>\n",
       "    </tr>\n",
       "    <tr>\n",
       "      <th>77</th>\n",
       "      <td>210059982325</td>\n",
       "      <td>2023</td>\n",
       "      <td>2</td>\n",
       "      <td>F</td>\n",
       "      <td>0</td>\n",
       "      <td>2</td>\n",
       "      <td>2</td>\n",
       "      <td>2</td>\n",
       "      <td>0</td>\n",
       "      <td>2</td>\n",
       "      <td>...</td>\n",
       "      <td>B</td>\n",
       "      <td>A</td>\n",
       "      <td>A</td>\n",
       "      <td>B</td>\n",
       "      <td>A</td>\n",
       "      <td>A</td>\n",
       "      <td>A</td>\n",
       "      <td>A</td>\n",
       "      <td>A</td>\n",
       "      <td>B</td>\n",
       "    </tr>\n",
       "  </tbody>\n",
       "</table>\n",
       "<p>10 rows × 76 columns</p>\n",
       "</div>"
      ],
      "text/plain": [
       "    NU_INSCRICAO  NU_ANO  TP_FAIXA_ETARIA TP_SEXO  TP_ESTADO_CIVIL  \\\n",
       "3   210060214087    2023                2       F                1   \n",
       "4   210059980948    2023                3       F                1   \n",
       "11  210060801595    2023                3       M                1   \n",
       "16  210058061534    2023                4       F                1   \n",
       "41  210059855121    2023                3       M                1   \n",
       "46  210061103944    2023                2       F                1   \n",
       "48  210059388092    2023                3       F                1   \n",
       "64  210059527733    2023                3       M                1   \n",
       "66  210059959486    2023                3       F                1   \n",
       "77  210059982325    2023                2       F                0   \n",
       "\n",
       "    TP_COR_RACA  TP_NACIONALIDADE  TP_ST_CONCLUSAO  TP_ANO_CONCLUIU  \\\n",
       "3             3                 1                2                0   \n",
       "4             3                 1                2                0   \n",
       "11            3                 4                2                0   \n",
       "16            1                 1                2                0   \n",
       "41            1                 1                2                0   \n",
       "46            1                 1                2                0   \n",
       "48            3                 1                2                0   \n",
       "64            2                 1                2                0   \n",
       "66            1                 1                2                0   \n",
       "77            2                 2                2                0   \n",
       "\n",
       "    TP_ESCOLA  ...  Q016  Q017  Q018 Q019  Q020 Q021  Q022  Q023  Q024  Q025  \n",
       "3           2  ...     A     A     A    B     A    A     D     A     A     B  \n",
       "4           2  ...     A     A     A    B     A    A     B     A     A     A  \n",
       "11          2  ...     A     A     A    B     A    A     B     A     B     B  \n",
       "16          2  ...     A     A     A    B     A    A     D     B     A     B  \n",
       "41          2  ...     A     A     A    B     A    A     B     A     A     B  \n",
       "46          2  ...     B     A     B    C     B    B     E     B     C     B  \n",
       "48          2  ...     A     A     A    B     A    A     B     A     A     B  \n",
       "64          2  ...     B     A     A    D     A    A     D     A     B     B  \n",
       "66          2  ...     B     A     A    B     A    A     C     A     B     B  \n",
       "77          2  ...     B     A     A    B     A    A     A     A     A     B  \n",
       "\n",
       "[10 rows x 76 columns]"
      ]
     },
     "execution_count": 13,
     "metadata": {},
     "output_type": "execute_result"
    }
   ],
   "source": [
    "df_campinas = df[df['NO_MUNICIPIO_PROVA'] == 'Campinas']\n",
    "df.head(10)"
   ]
  },
  {
   "cell_type": "code",
   "execution_count": 17,
   "metadata": {},
   "outputs": [],
   "source": [
    "df_campinas.to_csv('MICRODADOS_ENEM_2023_CAMPINAS.csv', sep=';', encoding='ISO-8859-1')"
   ]
  },
  {
   "cell_type": "code",
   "execution_count": 15,
   "metadata": {},
   "outputs": [],
   "source": [
    "df_campinas = pd.read_csv('MICRODADOS_ENEM_2023_CAMPINAS.csv', sep=';', encoding='ISO-8859-1')"
   ]
  },
  {
   "cell_type": "code",
   "execution_count": 16,
   "metadata": {},
   "outputs": [
    {
     "data": {
      "text/html": [
       "<div>\n",
       "<style scoped>\n",
       "    .dataframe tbody tr th:only-of-type {\n",
       "        vertical-align: middle;\n",
       "    }\n",
       "\n",
       "    .dataframe tbody tr th {\n",
       "        vertical-align: top;\n",
       "    }\n",
       "\n",
       "    .dataframe thead th {\n",
       "        text-align: right;\n",
       "    }\n",
       "</style>\n",
       "<table border=\"1\" class=\"dataframe\">\n",
       "  <thead>\n",
       "    <tr style=\"text-align: right;\">\n",
       "      <th></th>\n",
       "      <th>NO_MUNICIPIO_ESC</th>\n",
       "      <th>NU_NOTA_CN</th>\n",
       "      <th>NU_NOTA_CH</th>\n",
       "      <th>NU_NOTA_LC</th>\n",
       "      <th>NU_NOTA_MT</th>\n",
       "      <th>Q006</th>\n",
       "      <th>Q010</th>\n",
       "      <th>Q024</th>\n",
       "      <th>Q025</th>\n",
       "    </tr>\n",
       "  </thead>\n",
       "  <tbody>\n",
       "    <tr>\n",
       "      <th>0</th>\n",
       "      <td>Campinas</td>\n",
       "      <td>541.0</td>\n",
       "      <td>559.4</td>\n",
       "      <td>579.0</td>\n",
       "      <td>701.3</td>\n",
       "      <td>E</td>\n",
       "      <td>A</td>\n",
       "      <td>B</td>\n",
       "      <td>B</td>\n",
       "    </tr>\n",
       "    <tr>\n",
       "      <th>1</th>\n",
       "      <td>Campinas</td>\n",
       "      <td>475.3</td>\n",
       "      <td>496.0</td>\n",
       "      <td>491.5</td>\n",
       "      <td>454.7</td>\n",
       "      <td>C</td>\n",
       "      <td>B</td>\n",
       "      <td>C</td>\n",
       "      <td>B</td>\n",
       "    </tr>\n",
       "    <tr>\n",
       "      <th>2</th>\n",
       "      <td>Campinas</td>\n",
       "      <td>556.5</td>\n",
       "      <td>628.8</td>\n",
       "      <td>582.5</td>\n",
       "      <td>592.0</td>\n",
       "      <td>E</td>\n",
       "      <td>B</td>\n",
       "      <td>A</td>\n",
       "      <td>B</td>\n",
       "    </tr>\n",
       "    <tr>\n",
       "      <th>3</th>\n",
       "      <td>Campinas</td>\n",
       "      <td>591.8</td>\n",
       "      <td>482.3</td>\n",
       "      <td>537.8</td>\n",
       "      <td>666.1</td>\n",
       "      <td>D</td>\n",
       "      <td>B</td>\n",
       "      <td>B</td>\n",
       "      <td>B</td>\n",
       "    </tr>\n",
       "    <tr>\n",
       "      <th>4</th>\n",
       "      <td>Campinas</td>\n",
       "      <td>551.4</td>\n",
       "      <td>646.3</td>\n",
       "      <td>607.0</td>\n",
       "      <td>659.3</td>\n",
       "      <td>J</td>\n",
       "      <td>B</td>\n",
       "      <td>E</td>\n",
       "      <td>B</td>\n",
       "    </tr>\n",
       "    <tr>\n",
       "      <th>5</th>\n",
       "      <td>Campinas</td>\n",
       "      <td>382.3</td>\n",
       "      <td>484.7</td>\n",
       "      <td>549.4</td>\n",
       "      <td>646.7</td>\n",
       "      <td>B</td>\n",
       "      <td>A</td>\n",
       "      <td>A</td>\n",
       "      <td>B</td>\n",
       "    </tr>\n",
       "    <tr>\n",
       "      <th>6</th>\n",
       "      <td>Campinas</td>\n",
       "      <td>570.0</td>\n",
       "      <td>543.9</td>\n",
       "      <td>574.2</td>\n",
       "      <td>522.1</td>\n",
       "      <td>C</td>\n",
       "      <td>B</td>\n",
       "      <td>B</td>\n",
       "      <td>B</td>\n",
       "    </tr>\n",
       "    <tr>\n",
       "      <th>7</th>\n",
       "      <td>Campinas</td>\n",
       "      <td>483.3</td>\n",
       "      <td>548.7</td>\n",
       "      <td>547.7</td>\n",
       "      <td>525.7</td>\n",
       "      <td>G</td>\n",
       "      <td>B</td>\n",
       "      <td>C</td>\n",
       "      <td>B</td>\n",
       "    </tr>\n",
       "    <tr>\n",
       "      <th>8</th>\n",
       "      <td>Campinas</td>\n",
       "      <td>398.2</td>\n",
       "      <td>497.4</td>\n",
       "      <td>496.4</td>\n",
       "      <td>550.6</td>\n",
       "      <td>I</td>\n",
       "      <td>B</td>\n",
       "      <td>B</td>\n",
       "      <td>B</td>\n",
       "    </tr>\n",
       "    <tr>\n",
       "      <th>9</th>\n",
       "      <td>Campinas</td>\n",
       "      <td>717.5</td>\n",
       "      <td>650.6</td>\n",
       "      <td>636.4</td>\n",
       "      <td>750.6</td>\n",
       "      <td>G</td>\n",
       "      <td>C</td>\n",
       "      <td>C</td>\n",
       "      <td>B</td>\n",
       "    </tr>\n",
       "  </tbody>\n",
       "</table>\n",
       "</div>"
      ],
      "text/plain": [
       "  NO_MUNICIPIO_ESC  NU_NOTA_CN  NU_NOTA_CH  NU_NOTA_LC  NU_NOTA_MT Q006 Q010  \\\n",
       "0         Campinas       541.0       559.4       579.0       701.3    E    A   \n",
       "1         Campinas       475.3       496.0       491.5       454.7    C    B   \n",
       "2         Campinas       556.5       628.8       582.5       592.0    E    B   \n",
       "3         Campinas       591.8       482.3       537.8       666.1    D    B   \n",
       "4         Campinas       551.4       646.3       607.0       659.3    J    B   \n",
       "5         Campinas       382.3       484.7       549.4       646.7    B    A   \n",
       "6         Campinas       570.0       543.9       574.2       522.1    C    B   \n",
       "7         Campinas       483.3       548.7       547.7       525.7    G    B   \n",
       "8         Campinas       398.2       497.4       496.4       550.6    I    B   \n",
       "9         Campinas       717.5       650.6       636.4       750.6    G    C   \n",
       "\n",
       "  Q024 Q025  \n",
       "0    B    B  \n",
       "1    C    B  \n",
       "2    A    B  \n",
       "3    B    B  \n",
       "4    E    B  \n",
       "5    A    B  \n",
       "6    B    B  \n",
       "7    C    B  \n",
       "8    B    B  \n",
       "9    C    B  "
      ]
     },
     "execution_count": 16,
     "metadata": {},
     "output_type": "execute_result"
    }
   ],
   "source": [
    "colunas = ['NO_MUNICIPIO_ESC', 'NU_NOTA_CN', 'NU_NOTA_CH', 'NU_NOTA_LC', 'NU_NOTA_MT', 'Q006', 'Q010', 'Q024', 'Q025']\n",
    "df_campinas_filtrado = df_campinas.filter(items=colunas)\n",
    "df_campinas_filtrado.head(10)"
   ]
  },
  {
   "cell_type": "code",
   "execution_count": null,
   "metadata": {},
   "outputs": [],
   "source": [
    "notas = ['NU_NOTA_CN', 'NU_NOTA_CH', 'NU_NOTA_LC', 'NU_NOTA_MT']\n",
    "perguntas = ['Q006', 'Q010', 'Q024', 'Q025']\n",
    "df_campinas_notas = df_campinas_filtrado.filter(items=notas)\n",
    "df_campinas_perguntas = df_campinas_filtrado.filter(items=perguntas)"
   ]
  },
  {
   "cell_type": "code",
   "execution_count": 18,
   "metadata": {},
   "outputs": [
    {
     "data": {
      "text/plain": [
       "count    4001.000000\n",
       "mean      530.503849\n",
       "std        89.731322\n",
       "min         0.000000\n",
       "25%       471.900000\n",
       "50%       533.000000\n",
       "75%       587.500000\n",
       "max       843.300000\n",
       "Name: NU_NOTA_CN, dtype: float64"
      ]
     },
     "execution_count": 18,
     "metadata": {},
     "output_type": "execute_result"
    }
   ],
   "source": [
    "df_campinas_filtrado['NU_NOTA_CN'].describe()"
   ]
  },
  {
   "cell_type": "markdown",
   "metadata": {},
   "source": [
    "## Análise descritiva das notas"
   ]
  },
  {
   "cell_type": "code",
   "execution_count": 64,
   "metadata": {},
   "outputs": [],
   "source": [
    "linguagens_series = df_campinas_filtrado['NU_NOTA_LC'].describe()\n",
    "humanas_series = df_campinas_filtrado['NU_NOTA_CH'].describe()\n",
    "naturezas_series = df_campinas_filtrado['NU_NOTA_CN'].describe()\n",
    "matematica_series = df_campinas_filtrado['NU_NOTA_MT'].describe()\n",
    "\n",
    "nomes_descritivos = {\n",
    "    'count': 'Número de observações',\n",
    "    'mean': 'Média',\n",
    "    'std': 'Desvio padrão',\n",
    "    'min': 'Mínimo',\n",
    "    '25%': '1º Quartil',\n",
    "    '50%': 'Mediana',\n",
    "    '75%': '3º Quartil',\n",
    "    'max': 'Máximo'\n",
    "}"
   ]
  },
  {
   "cell_type": "markdown",
   "metadata": {},
   "source": [
    "### Dados estatísticos Linguagens"
   ]
  },
  {
   "cell_type": "code",
   "execution_count": 66,
   "metadata": {},
   "outputs": [
    {
     "name": "stdout",
     "output_type": "stream",
     "text": [
      "            Descrição  Valores\n",
      "Número de observações  4001.00\n",
      "                Média   550.06\n",
      "        Desvio padrão    65.68\n",
      "               Mínimo   293.60\n",
      "           1º Quartil   510.80\n",
      "              Mediana   555.80\n",
      "           3º Quartil   594.30\n",
      "               Máximo   736.20\n"
     ]
    }
   ],
   "source": [
    "linguagens = linguagens_series.reset_index().rename(columns={'index': 'Descrição', 'NU_NOTA_LC': 'Valores'})\n",
    "linguagens['Descrição'] = linguagens['Descrição'].map(nomes_descritivos)\n",
    "linguagens['Valores'] = linguagens['Valores'].round(2)\n",
    "print(linguagens.to_string(index=False))"
   ]
  },
  {
   "cell_type": "markdown",
   "metadata": {},
   "source": [
    "### Dados estatísticos Ciências Humanas"
   ]
  },
  {
   "cell_type": "code",
   "execution_count": 67,
   "metadata": {},
   "outputs": [
    {
     "name": "stdout",
     "output_type": "stream",
     "text": [
      "            Descrição  Valores\n",
      "Número de observações  4001.00\n",
      "                Média   556.77\n",
      "        Desvio padrão    79.60\n",
      "               Mínimo     0.00\n",
      "           1º Quartil   509.70\n",
      "              Mediana   564.90\n",
      "           3º Quartil   611.70\n",
      "               Máximo   798.30\n"
     ]
    }
   ],
   "source": [
    "humanas = humanas_series.reset_index().rename(columns={'index': 'Descrição', 'NU_NOTA_CH': 'Valores'})\n",
    "humanas['Descrição'] = humanas['Descrição'].map(nomes_descritivos)\n",
    "humanas['Valores'] = humanas['Valores'].round(2)\n",
    "print(humanas.to_string(index=False))"
   ]
  },
  {
   "cell_type": "markdown",
   "metadata": {},
   "source": [
    "### Dados estatísticos Ciências da Natureza"
   ]
  },
  {
   "cell_type": "code",
   "execution_count": 74,
   "metadata": {},
   "outputs": [
    {
     "name": "stdout",
     "output_type": "stream",
     "text": [
      "            Descrição  Valores\n",
      "Número de observações  4001.00\n",
      "                Média   530.50\n",
      "        Desvio padrão    89.73\n",
      "               Mínimo     0.00\n",
      "           1º Quartil   471.90\n",
      "              Mediana   533.00\n",
      "           3º Quartil   587.50\n",
      "               Máximo   843.30\n"
     ]
    }
   ],
   "source": [
    "naturezas = naturezas_series.reset_index().rename(columns={'index': 'Descrição', 'NU_NOTA_CN': 'Valores'})\n",
    "naturezas['Descrição'] = naturezas['Descrição'].map(nomes_descritivos)\n",
    "naturezas['Valores'] = naturezas['Valores'].round(2)\n",
    "print(naturezas.to_string(index=False))"
   ]
  },
  {
   "cell_type": "markdown",
   "metadata": {},
   "source": [
    "### Dados estatísticos Matemática"
   ]
  },
  {
   "cell_type": "code",
   "execution_count": 75,
   "metadata": {},
   "outputs": [
    {
     "name": "stdout",
     "output_type": "stream",
     "text": [
      "            Descrição  Valores\n",
      "Número de observações  4001.00\n",
      "                Média   601.07\n",
      "        Desvio padrão   132.01\n",
      "               Mínimo     0.00\n",
      "           1º Quartil   503.90\n",
      "              Mediana   611.00\n",
      "           3º Quartil   698.30\n",
      "               Máximo   958.60\n"
     ]
    }
   ],
   "source": [
    "matematica = matematica_series.reset_index().rename(columns={'index': 'Descrição', 'NU_NOTA_MT': 'Valores'})\n",
    "matematica['Descrição'] = matematica['Descrição'].map(nomes_descritivos)\n",
    "matematica['Valores'] = matematica['Valores'].round(2)\n",
    "print(matematica.to_string(index=False))"
   ]
  },
  {
   "cell_type": "markdown",
   "metadata": {},
   "source": [
    "### Plotagem do boxplot Linguagens"
   ]
  },
  {
   "cell_type": "code",
   "execution_count": 110,
   "metadata": {},
   "outputs": [
    {
     "data": {
      "image/png": "[encoded data removed]",
      "text/plain": [
       "<Figure size 600x600 with 1 Axes>"
      ]
     },
     "metadata": {},
     "output_type": "display_data"
    }
   ],
   "source": [
    "plt.figure(figsize=(6, 6))\n",
    "sns.boxplot(data=df_campinas_filtrado['NU_NOTA_LC'])\n",
    "plt.ylabel('Notas')\n",
    "plt.yticks(range(0, 1001, 200))\n",
    "plt.title('Boxplot das Notas de Linguagens e Códigos (Campinas)')\n",
    "plt.show()"
   ]
  },
  {
   "cell_type": "markdown",
   "metadata": {},
   "source": [
    "### Plotagem do bloxpot Humanas"
   ]
  },
  {
   "cell_type": "code",
   "execution_count": 111,
   "metadata": {},
   "outputs": [
    {
     "data": {
      "image/png": "[encoded data removed]",
      "text/plain": [
       "<Figure size 600x600 with 1 Axes>"
      ]
     },
     "metadata": {},
     "output_type": "display_data"
    }
   ],
   "source": [
    "plt.figure(figsize=(6, 6))\n",
    "sns.boxplot(data=df_campinas_filtrado['NU_NOTA_CH'])\n",
    "plt.ylabel('Notas')\n",
    "plt.yticks(range(0, 1001, 200))\n",
    "plt.title('Boxplot das Notas de Ciências Humanas (Campinas)')\n",
    "plt.show()"
   ]
  },
  {
   "cell_type": "markdown",
   "metadata": {},
   "source": [
    "### Plotagem do bloxpot Naturezas"
   ]
  },
  {
   "cell_type": "code",
   "execution_count": 112,
   "metadata": {},
   "outputs": [
    {
     "data": {
      "image/png": "[encoded data removed]",
      "text/plain": [
       "<Figure size 600x600 with 1 Axes>"
      ]
     },
     "metadata": {},
     "output_type": "display_data"
    }
   ],
   "source": [
    "plt.figure(figsize=(6, 6))\n",
    "sns.boxplot(data=df_campinas_filtrado['NU_NOTA_CN'])\n",
    "plt.ylabel('Notas')\n",
    "plt.yticks(range(0, 1001, 200))\n",
    "plt.title('Boxplot das Notas de Ciências da Natureza (Campinas)')\n",
    "plt.show()"
   ]
  },
  {
   "cell_type": "markdown",
   "metadata": {},
   "source": [
    "### Plotagem do bloxpot Matemática"
   ]
  },
  {
   "cell_type": "code",
   "execution_count": 113,
   "metadata": {},
   "outputs": [
    {
     "data": {
      "image/png": "[encoded data removed]",
      "text/plain": [
       "<Figure size 600x600 with 1 Axes>"
      ]
     },
     "metadata": {},
     "output_type": "display_data"
    }
   ],
   "source": [
    "plt.figure(figsize=(6, 6))\n",
    "sns.boxplot(data=df_campinas_filtrado['NU_NOTA_MT'])\n",
    "plt.ylabel('Notas')\n",
    "plt.yticks(range(0, 1001, 200))\n",
    "plt.title('Boxplot das Notas de Matemática (Campinas)')\n",
    "plt.show()"
   ]
  },
  {
   "cell_type": "markdown",
   "metadata": {},
   "source": [
    "## Análise simples das perguntas"
   ]
  },
  {
   "cell_type": "code",
   "execution_count": 35,
   "metadata": {},
   "outputs": [
    {
     "name": "stdout",
     "output_type": "stream",
     "text": [
      "{'A': 34, 'B': 272, 'C': 370, 'D': 418, 'E': 362, 'F': 264, 'G': 516, 'H': 296, 'I': 203, 'J': 192, 'K': 165, 'L': 112, 'M': 101, 'N': 144, 'O': 166, 'P': 165, 'Q': 221}\n",
      "{'A': 630, 'B': 2094, 'C': 1063, 'D': 168, 'E': 46}\n",
      "{'A': 763, 'B': 1653, 'C': 832, 'D': 451, 'E': 302}\n",
      "{'A': 45, 'B': 3956}\n"
     ]
    }
   ],
   "source": [
    "renda_data = df_campinas_filtrado['Q006'].value_counts().to_dict()\n",
    "renda_data = dict(sorted(renda_data.items()))\n",
    "print(renda_data)\n",
    "carro_data = df_campinas_filtrado['Q010'].value_counts().to_dict()\n",
    "carro_data = dict(sorted(carro_data.items()))\n",
    "print(carro_data)\n",
    "computador_data = df_campinas_filtrado['Q024'].value_counts().to_dict()\n",
    "computador_data = dict(sorted(computador_data.items()))\n",
    "print(computador_data)\n",
    "internet_data = df_campinas_filtrado['Q025'].value_counts().to_dict()\n",
    "internet_data = dict(sorted(internet_data.items()))\n",
    "print(internet_data)\n"
   ]
  },
  {
   "cell_type": "markdown",
   "metadata": {},
   "source": [
    "### Renomear dicionários"
   ]
  },
  {
   "cell_type": "code",
   "execution_count": 97,
   "metadata": {},
   "outputs": [
    {
     "name": "stdout",
     "output_type": "stream",
     "text": [
      "['Não.', 'Sim, um.', 'Sim, dois.', 'Sim, três.', 'Sim, quatro ou mais.']\n"
     ]
    }
   ],
   "source": [
    "chaves_rendas = \"\"\"Nenhuma Renda\n",
    "Até R$1.320,00\n",
    "R$1.320,01 - R$1.980,00\n",
    "R$1.980,01 - R$2.640,00\n",
    "R$2.640,01 - R$3.300,00\n",
    "R$3.300,01 - R$3.960,00\n",
    "R$3.960,01 - R$5.280,00\n",
    "R$5.280,01 - R$6.600,00\n",
    "R$6.600,01 - R$7.920,00\n",
    "R$7.920,01 - R$9240,00\n",
    "R$9.240,01 - R$10.560,00\n",
    "R$10.560,01 - R$11.880,00\n",
    "R$11.880,01 - R$13.200,00\n",
    "R$13.200,01 - R$15.840,00\n",
    "R$15.840,01 - R$19.800,00\n",
    "R$19.800,01 - R$26.400,00\n",
    "Acima de R$26.400,00\"\"\"\n",
    "# Faça uma lista com os valores de rendas\n",
    "categorias_renda = chaves_rendas.split('\\n')\n",
    "\n",
    "chaves_carros = \"\"\"Não.\n",
    "Sim, um.\n",
    "Sim, dois.\n",
    "Sim, três.\n",
    "Sim, quatro ou mais.\"\"\"\n",
    "categorias_carros = chaves_carros.split('\\n')\n",
    "print(categorias_carros)\n",
    "\n",
    "chaves_computadores = \"\"\"Não.\n",
    "Sim, um.\n",
    "Sim, dois.\n",
    "Sim, três.\n",
    "Sim, quatro ou mais.\"\"\"\n",
    "categorias_computadores = chaves_computadores.split('\\n')\n",
    "\n",
    "chaves_internet = \"\"\"Não.\n",
    "Sim.\"\"\"\n",
    "categorias_internet = chaves_internet.split('\\n')"
   ]
  },
  {
   "cell_type": "code",
   "execution_count": 100,
   "metadata": {},
   "outputs": [
    {
     "name": "stdout",
     "output_type": "stream",
     "text": [
      "{'Nenhuma Renda': 34, 'Até R$1.320,00': 272, 'R$1.320,01 - R$1.980,00': 370, 'R$1.980,01 - R$2.640,00': 418, 'R$2.640,01 - R$3.300,00': 362, 'R$3.300,01 - R$3.960,00': 264, 'R$3.960,01 - R$5.280,00': 516, 'R$5.280,01 - R$6.600,00': 296, 'R$6.600,01 - R$7.920,00': 203, 'R$7.920,01 - R$9240,00': 192, 'R$9.240,01 - R$10.560,00': 165, 'R$10.560,01 - R$11.880,00': 112, 'R$11.880,01 - R$13.200,00': 101, 'R$13.200,01 - R$15.840,00': 144, 'R$15.840,01 - R$19.800,00': 166, 'R$19.800,01 - R$26.400,00': 165, 'Acima de R$26.400,00': 221}\n",
      "{'Não.': 630, 'Sim, um.': 2094, 'Sim, dois.': 1063, 'Sim, três.': 168, 'Sim, quatro ou mais.': 46}\n",
      "{'Não.': 763, 'Sim, um.': 1653, 'Sim, dois.': 832, 'Sim, três.': 451, 'Sim, quatro ou mais.': 302}\n",
      "{'Não.': 45, 'Sim.': 3956}\n"
     ]
    }
   ],
   "source": [
    "renda = dict(zip(categorias_renda, renda_data.values()))\n",
    "carro = dict(zip(categorias_carros, carro_data.values()))\n",
    "computador = dict(zip(categorias_computadores, computador_data.values()))\n",
    "internet = dict(zip(categorias_internet, internet_data.values()))\n",
    "print(renda)\n",
    "print(carro)\n",
    "print(computador)\n",
    "print(internet)"
   ]
  },
  {
   "cell_type": "markdown",
   "metadata": {},
   "source": [
    "### Criação dos gráficos"
   ]
  },
  {
   "cell_type": "code",
   "execution_count": 92,
   "metadata": {},
   "outputs": [
    {
     "data": {
      "image/png": "[encoded data removed]",
      "text/plain": [
       "<Figure size 1000x600 with 1 Axes>"
      ]
     },
     "metadata": {},
     "output_type": "display_data"
    }
   ],
   "source": [
    "# Criar gráfico a partir dos dicionários\n",
    "plt.figure(figsize=(10, 6))\n",
    "plt.bar(renda.keys(), renda.values())\n",
    "plt.xticks(rotation=90)\n",
    "plt.ylabel('Número de alunos')\n",
    "plt.title('Qual é a renda mensal de sua família?')\n",
    "plt.show()"
   ]
  },
  {
   "cell_type": "code",
   "execution_count": 98,
   "metadata": {},
   "outputs": [
    {
     "data": {
      "image/png": "[encoded data removed]",
      "text/plain": [
       "<Figure size 1000x600 with 1 Axes>"
      ]
     },
     "metadata": {},
     "output_type": "display_data"
    }
   ],
   "source": [
    "# Criar gráfico a partir dos dicionários\n",
    "plt.figure(figsize=(10, 6))\n",
    "plt.bar(carro.keys(), carro.values())\n",
    "plt.xticks(rotation=0)\n",
    "plt.ylabel('Número de alunos')\n",
    "plt.title('Na sua residência tem carro? (Campinas)')\n",
    "plt.show()"
   ]
  },
  {
   "cell_type": "code",
   "execution_count": 114,
   "metadata": {},
   "outputs": [
    {
     "data": {
      "image/png": "[encoded data removed]",
      "text/plain": [
       "<Figure size 600x600 with 1 Axes>"
      ]
     },
     "metadata": {},
     "output_type": "display_data"
    }
   ],
   "source": [
    "carroSN = {\n",
    "    'Sim': carro['Sim, um.'] + carro['Sim, dois.'] + carro['Sim, três.'] + carro['Sim, quatro ou mais.'],\n",
    "    'Não': carro['Não.']\n",
    "}\n",
    "# Criar gráfico de pizza a partir de computadorSN\n",
    "plt.figure(figsize=(6, 6))\n",
    "plt.pie(carroSN.values(), labels=carroSN.keys(), autopct='%1.1f%%')\n",
    "plt.title('Na sua residência tem carro? (Campinas)')\n",
    "plt.show()\n"
   ]
  },
  {
   "cell_type": "code",
   "execution_count": 84,
   "metadata": {},
   "outputs": [
    {
     "data": {
      "image/png": "[encoded data removed]",
      "text/plain": [
       "<Figure size 1000x600 with 1 Axes>"
      ]
     },
     "metadata": {},
     "output_type": "display_data"
    }
   ],
   "source": [
    "# Criar gráfico a partir dos dicionários\n",
    "plt.figure(figsize=(10, 6))\n",
    "plt.bar(computador.keys(), computador.values())\n",
    "plt.xticks(rotation=0)\n",
    "plt.ylabel('Número de alunos')\n",
    "plt.title('Na sua residência tem computador? (Campinas)')\n",
    "plt.show()"
   ]
  },
  {
   "cell_type": "code",
   "execution_count": 104,
   "metadata": {},
   "outputs": [
    {
     "data": {
      "image/png": "[encoded data removed]",
      "text/plain": [
       "<Figure size 600x600 with 1 Axes>"
      ]
     },
     "metadata": {},
     "output_type": "display_data"
    }
   ],
   "source": [
    "computadorSN = {\n",
    "    'Sim': computador['Sim, um.'] + computador['Sim, dois.'] + computador['Sim, três.'] + computador['Sim, quatro ou mais.'],\n",
    "    'Não': computador['Não.']\n",
    "}\n",
    "# Criar gráfico de pizza a partir de computadorSN\n",
    "plt.figure(figsize=(6, 6))\n",
    "plt.pie(computadorSN.values(), labels=computadorSN.keys(), autopct='%1.1f%%')\n",
    "plt.title('Na sua residência tem computador? (Campinas)')\n",
    "plt.show()"
   ]
  },
  {
   "cell_type": "code",
   "execution_count": 105,
   "metadata": {},
   "outputs": [
    {
     "data": {
      "image/png": "[encoded data removed]",
      "text/plain": [
       "<Figure size 600x600 with 1 Axes>"
      ]
     },
     "metadata": {},
     "output_type": "display_data"
    }
   ],
   "source": [
    "# Criar gráfico de pizza a partir de internet\n",
    "plt.figure(figsize=(6, 6))\n",
    "plt.pie(internet.values(), labels=internet.keys(), autopct='%1.1f%%')\n",
    "plt.title('Na sua residência tem acesso à internet? (Campinas)')\n",
    "plt.show()"
   ]
  },
  {
   "cell_type": "markdown",
   "metadata": {},
   "source": [
    "## Correlação Notas e Perguntas"
   ]
  }
 ],
 "metadata": {
  "kernelspec": {
   "display_name": "base",
   "language": "python",
   "name": "python3"
  },
  "language_info": {
   "codemirror_mode": {
    "name": "ipython",
    "version": 3
   },
   "file_extension": ".py",
   "mimetype": "text/x-python",
   "name": "python",
   "nbconvert_exporter": "python",
   "pygments_lexer": "ipython3",
   "version": "3.9.13"
  }
 },
 "nbformat": 4,
 "nbformat_minor": 2
}
